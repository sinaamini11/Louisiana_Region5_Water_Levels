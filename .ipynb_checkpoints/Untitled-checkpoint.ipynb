{
 "cells": [
  {
   "cell_type": "code",
   "execution_count": 1,
   "metadata": {},
   "outputs": [],
   "source": [
    "import os\n"
   ]
  },
  {
   "cell_type": "code",
   "execution_count": 2,
   "metadata": {},
   "outputs": [],
   "source": [
    "if os.path.exists('./Input/Full_Continuous_Hydrographic_Data/Full_Continuous_Hydrographic.ignore'):   \n",
    "    station = None\n",
    "    j = None\n",
    "    num_lines = 100000\n",
    "    with open('./Input/Full_Continuous_Hydrographic_Data/Full_Continuous_Hydrographic.ignore', 'r', encoding='cp1252') as largefile:\n",
    "        for i, line in enumerate(largefile):\n",
    "            if i==0:\n",
    "                header = line\n",
    "            elif j != i//num_lines:\n",
    "                try:\n",
    "                    small_file.close()\n",
    "                except Exception:\n",
    "                    pass\n",
    "                j = i//num_lines\n",
    "                extension = str(100000 + j)[1:]\n",
    "                name = f'Full_Continuous_Hydrographic_{extension}.csv'\n",
    "                small_file = open(f'./Input/Full_Continuous_Hydrographic_Data/Full_Data_Spark/{name}', 'w', encoding='utf8')\n",
    "                small_file.write(header)\n",
    "            else:\n",
    "                small_file.write(line)\n"
   ]
  },
  {
   "cell_type": "code",
   "execution_count": null,
   "metadata": {},
   "outputs": [],
   "source": []
  }
 ],
 "metadata": {
  "kernelspec": {
   "display_name": "Python 3",
   "language": "python",
   "name": "python3"
  },
  "language_info": {
   "codemirror_mode": {
    "name": "ipython",
    "version": 3
   },
   "file_extension": ".py",
   "mimetype": "text/x-python",
   "name": "python",
   "nbconvert_exporter": "python",
   "pygments_lexer": "ipython3",
   "version": "3.7.9"
  }
 },
 "nbformat": 4,
 "nbformat_minor": 4
}
